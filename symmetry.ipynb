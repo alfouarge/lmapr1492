{
 "cells": [
  {
   "cell_type": "code",
   "execution_count": null,
   "metadata": {},
   "outputs": [],
   "source": [
    "!pip install ase pymatgen"
   ]
  },
  {
   "cell_type": "code",
   "execution_count": null,
   "metadata": {},
   "outputs": [],
   "source": [
    "from pymatgen import Structure\n",
    "from pymatgen.symmetry.analyzer import SpacegroupAnalyzer\n",
    "from pymatgen.symmetry.analyzer import SpacegroupOperations\n",
    "from pymatgen.core.operations import SymmOp\n",
    "from pymatgen.ext.matproj import MPRester\n",
    "from jupyter_jsmol.pymatgen import quick_view"
   ]
  },
  {
   "cell_type": "code",
   "execution_count": null,
   "metadata": {},
   "outputs": [],
   "source": [
    "#téléchargement de ma structure\n",
    "with MPRester(\"toW9wacOwhTywK26\") as m:\n",
    "\n",
    "    # Structure for material id\n",
    "    structure = m.get_structure_by_material_id(\"mp-15724\")\n",
    "    \n",
    "struct = SpacegroupAnalyzer(structure)\n",
    "struct_conv = struct.get_conventional_standard_structure()\n",
    "symmetrized_struct = struct.get_symmetrized_structure() # symetrique \n",
    "\n",
    "#récupération de la structure conventionnel qui correspond à la maille du fichier CIF symmetrized\n",
    "struct_analyze = SpacegroupAnalyzer(struct_conv)\n",
    "\n",
    "# récupération des opérations de symmétrie\n",
    "sym_op = struct_analyze.get_symmetry_operations()\n",
    "\n",
    "#représentation de la structure avec l'identité (pour visualiser)\n",
    "view = quick_view(struct_conv)\n",
    "display(view)\n",
    "view.script('draw symop 1 {atomno = 1}; select atomno=1; label on; color red')"
   ]
  },
  {
   "cell_type": "code",
   "execution_count": null,
   "metadata": {},
   "outputs": [],
   "source": [
    "#Position des atomes choisis dans le cristal\n",
    "summary=struct.get_primitive_standard_structure()\n",
    "\n",
    "Na = [0.25, 0.25, 0.25]\n",
    "K = [0.75, 0.75, 0.75]\n",
    "Sb = [0.0, 0.0, 0.0]\n",
    "\n",
    "#vérification \n",
    "print(summary.sites)"
   ]
  },
  {
   "cell_type": "code",
   "execution_count": null,
   "metadata": {},
   "outputs": [],
   "source": [
    "\n",
    "s1 = SymmOp.from_axis_angle_and_translation([0,0,1], 180, [0,0,0])\n",
    "op1 = s1.operate(K)\n",
    "rot1 = s1.rotation_matrix\n",
    "print(\"Matrice de rotation de pi autour de l'axe (0, 0, 1):\\n\",rot1)\n",
    "print(\" \")\n",
    "print(\"Position initiale de l'atome de potassium :\", K)\n",
    "print(\"Position de l'atome de potassium après la rotation de pi :\", op1)\n",
    "\n",
    "#Affiche du cristal\n",
    "view = quick_view(struct_conv)\n",
    "display(view)\n",
    "view.script('draw symop 2 {atomno = 2}; select atomno=2; label on; color red')"
   ]
  },
  {
   "cell_type": "code",
   "execution_count": null,
   "metadata": {},
   "outputs": [],
   "source": [
    "s2 = SymmOp.from_axis_angle_and_translation([0,0,1], 120, [0,0,0])\n",
    "op2 = s2.operate(Sb)\n",
    "rot2 = s2.rotation_matrix\n",
    "print(\"Matrice de rotation de 2*pi/3 autour de l'axe (0, 0, 1):\\n\",rot2)\n",
    "print(\" \")\n",
    "print(\"Position initiale de l'atome de Sb :\",Sb)\n",
    "print(\"Position de l'atome de Sb après la rotation de 2*pi/3 :\",op2)\n",
    "\n",
    "#Affiche du cristal\n",
    "view = quick_view(struct_conv)\n",
    "display(view)\n",
    "view.script('draw symop 6 {atomno = 3}; select atomno=3; label on; color red')\n"
   ]
  },
  {
   "cell_type": "code",
   "execution_count": null,
   "metadata": {},
   "outputs": [],
   "source": [
    "s3 = SymmOp.from_axis_angle_and_translation([1,-1,0], 90, [0,0,0])\n",
    "op3 = s3.operate(Na)\n",
    "rot3 = s3.rotation_matrix\n",
    "print(\"Matrice de rotation de pi/2 autour de l'axe (1,-1,0):\\n\",rot3)\n",
    "print(\" \")\n",
    "print(\"Position initiale de l'atome de Na :\",Na)\n",
    "print(\"Position de l'atome de Na après la rotation de pi/2 :\",op3)\n",
    "\n",
    "#Affiche du cristal\n",
    "view = quick_view(struct_conv)\n",
    "display(view)\n",
    "view.script('draw symop 15 {atomno = 2}; select atomno=2; label on; color red')\n"
   ]
  }
 ],
 "metadata": {
  "kernelspec": {
   "display_name": "Python 3",
   "language": "python",
   "name": "python3"
  },
  "language_info": {
   "codemirror_mode": {
    "name": "ipython",
    "version": 3
   },
   "file_extension": ".py",
   "mimetype": "text/x-python",
   "name": "python",
   "nbconvert_exporter": "python",
   "pygments_lexer": "ipython3",
   "version": "3.8.5"
  }
 },
 "nbformat": 4,
 "nbformat_minor": 5
}
