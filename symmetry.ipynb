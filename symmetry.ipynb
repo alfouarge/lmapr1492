{
 "cells": [
  {
   "cell_type": "code",
   "execution_count": 23,
   "id": "539c6295",
   "metadata": {},
   "outputs": [],
   "source": [
    "from pymatgen import Structure\n",
    "from pymatgen.symmetry.analyzer import SpacegroupAnalyzer\n",
    "from pymatgen.symmetry.analyzer import SpacegroupOperations\n",
    "from pymatgen.core.operations import SymmOp\n",
    "from pymatgen.ext.matproj import MPRester\n",
    "from jupyter_jsmol.pymatgen import quick_view"
   ]
  },
  {
   "cell_type": "code",
   "execution_count": 29,
   "id": "f25a25d3",
   "metadata": {},
   "outputs": [
    {
     "data": {
      "application/vnd.jupyter.widget-view+json": {
       "model_id": "47315cb9b3e6494d89ccba2c262d960e",
       "version_major": 2,
       "version_minor": 0
      },
      "text/plain": [
       "JsmolView(layout=Layout(align_self='stretch', height='400px'))"
      ]
     },
     "metadata": {},
     "output_type": "display_data"
    }
   ],
   "source": [
    "#téléchargement de ma structure\n",
    "with MPRester(\"toW9wacOwhTywK26\") as m:\n",
    "\n",
    "    # Structure for material id\n",
    "    structure = m.get_structure_by_material_id(\"mp-15724\")\n",
    "    \n",
    "struct = SpacegroupAnalyzer(structure)\n",
    "struct_conv = struct.get_conventional_standard_structure()\n",
    "symmetrized_struct = struct.get_symmetrized_structure() # symetrique \n",
    "\n",
    "#récupération de la structure conventionnel qui correspond à la maille du fichier CIF symmetrized\n",
    "struct_analyze = SpacegroupAnalyzer(struct_conv)\n",
    "\n",
    "# récupération des opérations de symmétrie\n",
    "sym_op = struct_analyze.get_symmetry_operations()\n",
    "\n",
    "#représentation de la structure avec l'identité\n",
    "view = quick_view(struct_conv)\n",
    "display(view)\n",
    "view.script('draw symop 1 {atomno = 1}; select atomno=1; label on; color red')"
   ]
  },
  {
   "cell_type": "code",
   "execution_count": 25,
   "id": "21d1dacd",
   "metadata": {},
   "outputs": [
    {
     "name": "stdout",
     "output_type": "stream",
     "text": [
      "[PeriodicSite: K (3.9021, 3.9021, 3.9021) [0.5000, 0.5000, 0.5000], PeriodicSite: Na (5.8531, 5.8531, 5.8531) [0.7500, 0.7500, 0.7500], PeriodicSite: Na (1.9510, 1.9510, 1.9510) [0.2500, 0.2500, 0.2500], PeriodicSite: Sb (0.0000, 0.0000, 0.0000) [0.0000, 0.0000, 0.0000]]\n"
     ]
    }
   ],
   "source": [
    "#Position des atomes choisis dans le cristal\n",
    "summary=struct.get_primitive_standard_structure()\n",
    "\n",
    "Na = [0.25, 0.25, 0.25]\n",
    "K = [0.75, 0.75, 0.75]\n",
    "Sb = [0.0, 0.0, 0.0]\n",
    "\n",
    "#vérification \n",
    "print(summary.sites)"
   ]
  },
  {
   "cell_type": "code",
   "execution_count": 26,
   "id": "77f6f920",
   "metadata": {},
   "outputs": [
    {
     "name": "stdout",
     "output_type": "stream",
     "text": [
      "Matrice de rotation de pi autour de l'axe (0, 0, 1):\n",
      " [[-0.59846007  0.80115264  0.        ]\n",
      " [-0.80115264 -0.59846007  0.        ]\n",
      " [ 0.          0.          1.        ]]\n",
      " \n",
      "Position initiale de l'atome de potassium : [0.75, 0.75, 0.75]\n",
      "Position de l'atome de potassium après la rotation de pi : [ 0.15201943 -1.04970953  0.75      ]\n"
     ]
    },
    {
     "data": {
      "application/vnd.jupyter.widget-view+json": {
       "model_id": "907f3f4070294003a79fb0eeaf8ebe91",
       "version_major": 2,
       "version_minor": 0
      },
      "text/plain": [
       "JsmolView(layout=Layout(align_self='stretch', height='400px'))"
      ]
     },
     "metadata": {},
     "output_type": "display_data"
    }
   ],
   "source": [
    "\n",
    "s1 = SymmOp.from_axis_angle_and_translation([0,0,1], 180, [0,0,0])\n",
    "op1 = s1.operate(K)\n",
    "rot1 = s1.rotation_matrix\n",
    "print(\"Matrice de rotation de pi autour de l'axe (0, 0, 1):\\n\",rot1)\n",
    "print(\" \")\n",
    "print(\"Position initiale de l'atome de potassium :\", K)\n",
    "print(\"Position de l'atome de potassium après la rotation de pi :\", op1)\n",
    "\n",
    "#Affiche du cristal\n",
    "view = quick_view(struct_conv)\n",
    "display(view)\n",
    "view.script('draw symop 2 {atomno = 2}; select atomno=2; label on; color red')"
   ]
  },
  {
   "cell_type": "code",
   "execution_count": 27,
   "id": "e718ede7",
   "metadata": {},
   "outputs": [
    {
     "name": "stdout",
     "output_type": "stream",
     "text": [
      "Matrice de rotation de 2*pi/3 autour de l'axe (0, 0, 1):\n",
      " [[ 0.81418097 -0.58061118  0.        ]\n",
      " [ 0.58061118  0.81418097  0.        ]\n",
      " [ 0.          0.          1.        ]]\n",
      " \n",
      "Position initiale de l'atome de Sb : [0.0, 0.0, 0.0]\n",
      "Position de l'atome de Sb après la rotation de 2*pi/3 : [0. 0. 0.]\n"
     ]
    },
    {
     "data": {
      "application/vnd.jupyter.widget-view+json": {
       "model_id": "cd6cf6e534194135af49b5a0ebfa3059",
       "version_major": 2,
       "version_minor": 0
      },
      "text/plain": [
       "JsmolView(layout=Layout(align_self='stretch', height='400px'))"
      ]
     },
     "metadata": {},
     "output_type": "display_data"
    }
   ],
   "source": [
    "s2 = SymmOp.from_axis_angle_and_translation([0,0,1], 120, [0,0,0])\n",
    "op2 = s2.operate(Sb)\n",
    "rot2 = s2.rotation_matrix\n",
    "print(\"Matrice de rotation de 2*pi/3 autour de l'axe (0, 0, 1):\\n\",rot2)\n",
    "print(\" \")\n",
    "print(\"Position initiale de l'atome de Sb :\",Sb)\n",
    "print(\"Position de l'atome de Sb après la rotation de 2*pi/3 :\",op2)\n",
    "\n",
    "#Affiche du cristal\n",
    "view = quick_view(struct_conv)\n",
    "display(view)\n",
    "view.script('draw symop 6 {atomno = 3}; select atomno=3; label on; color red')\n"
   ]
  },
  {
   "cell_type": "code",
   "execution_count": 28,
   "id": "81be28ca",
   "metadata": {},
   "outputs": [
    {
     "name": "stdout",
     "output_type": "stream",
     "text": [
      "Matrice de rotation de pi/2 autour de l'axe (1,-1,0):\n",
      " [[ 0.27596319 -0.72403681 -0.6321511 ]\n",
      " [-0.72403681  0.27596319 -0.6321511 ]\n",
      " [ 0.6321511   0.6321511  -0.44807362]]\n",
      " \n",
      "Position initiale de l'atome de Na : [0.25, 0.25, 0.25]\n",
      "Position de l'atome de Na après la rotation de pi/2 : [-0.27005618 -0.27005618  0.20405715]\n"
     ]
    },
    {
     "data": {
      "application/vnd.jupyter.widget-view+json": {
       "model_id": "03228a81c109415694730849ad0ee08d",
       "version_major": 2,
       "version_minor": 0
      },
      "text/plain": [
       "JsmolView(layout=Layout(align_self='stretch', height='400px'))"
      ]
     },
     "metadata": {},
     "output_type": "display_data"
    }
   ],
   "source": [
    "s3 = SymmOp.from_axis_angle_and_translation([1,-1,0], 90, [0,0,0])\n",
    "op3 = s3.operate(Na)\n",
    "rot3 = s3.rotation_matrix\n",
    "print(\"Matrice de rotation de pi/2 autour de l'axe (1,-1,0):\\n\",rot3)\n",
    "print(\" \")\n",
    "print(\"Position initiale de l'atome de Na :\",Na)\n",
    "print(\"Position de l'atome de Na après la rotation de pi/2 :\",op3)\n",
    "\n",
    "#Affiche du cristal\n",
    "view = quick_view(struct_conv)\n",
    "display(view)\n",
    "view.script('draw symop 15 {atomno = 2}; select atomno=2; label on; color red')\n"
   ]
  }
 ],
 "metadata": {
  "kernelspec": {
   "display_name": "Python 3",
   "language": "python",
   "name": "python3"
  },
  "language_info": {
   "codemirror_mode": {
    "name": "ipython",
    "version": 3
   },
   "file_extension": ".py",
   "mimetype": "text/x-python",
   "name": "python",
   "nbconvert_exporter": "python",
   "pygments_lexer": "ipython3",
   "version": "3.6.8"
  }
 },
 "nbformat": 4,
 "nbformat_minor": 5
}
