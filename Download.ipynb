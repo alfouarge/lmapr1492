{
 "cells": [
  {
   "cell_type": "code",
   "execution_count": 6,
   "id": "1f8e00f9",
   "metadata": {},
   "outputs": [
    {
     "name": "stdout",
     "output_type": "stream",
     "text": [
      "Le fichier CIF Symmetrized pour mp-15724 a été téléchargé avec succès.\n"
     ]
    }
   ],
   "source": [
    "import requests\n",
    "\n",
    "# Définir les paramètres de la requête\n",
    "material_id = 'mp-15724'\n",
    "api_key = 'toW9wacOwhTywK26'\n",
    "url = f'https://legacy.materialsproject.org/materials/{material_id}/cif?API_KEY={api_key}'\n",
    "\n",
    "# Envoyer une requête GET pour télécharger le fichier CIF\n",
    "response = requests.get(url)\n",
    "\n",
    "# Vérifier si la requête a réussi et le fichier a été téléchargé\n",
    "if response.status_code == 200:\n",
    "    # Enregistrer le fichier CIF dans le répertoire courant\n",
    "    with open(f'{material_id}.cif', 'w') as f:\n",
    "        f.write(response.text)\n",
    "    print(f'Le fichier CIF Symmetrized pour {material_id} a été téléchargé avec succès.')\n",
    "else:\n",
    "    print(f'Impossible de télécharger le fichier CIF Symmetrized pour {material_id}.')\n"
   ]
  },
  {
   "cell_type": "code",
   "execution_count": 7,
   "id": "47a438e3",
   "metadata": {},
   "outputs": [
    {
     "name": "stdout",
     "output_type": "stream",
     "text": [
      "['download.ipynb', '.ipynb_checkpoints', '.bash_profile', '.local', '.ipython', 'mp-15724.cif']\n"
     ]
    }
   ],
   "source": [
    "import os\n",
    "files = os.listdir('.')\n",
    "print(files)\n"
   ]
  }
 ],
 "metadata": {
  "kernelspec": {
   "display_name": "Python 3",
   "language": "python",
   "name": "python3"
  },
  "language_info": {
   "codemirror_mode": {
    "name": "ipython",
    "version": 3
   },
   "file_extension": ".py",
   "mimetype": "text/x-python",
   "name": "python",
   "nbconvert_exporter": "python",
   "pygments_lexer": "ipython3",
   "version": "3.6.8"
  }
 },
 "nbformat": 4,
 "nbformat_minor": 5
}
