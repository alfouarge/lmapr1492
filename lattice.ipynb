{
 "cells": [
  {
   "cell_type": "code",
   "execution_count": 15,
   "id": "0f1fca7e",
   "metadata": {},
   "outputs": [],
   "source": [
    "from pymatgen.ext.matproj import MPRester\n",
    "from pymatgen.symmetry.analyzer import SpacegroupAnalyzer"
   ]
  },
  {
   "cell_type": "code",
   "execution_count": 16,
   "id": "15b6a6ff",
   "metadata": {},
   "outputs": [],
   "source": [
    "with MPRester(\"toW9wacOwhTywK26\") as m:\n",
    "\n",
    "    # Structure for material id\n",
    "    structure = m.get_structure_by_material_id(\"mp-15724\")"
   ]
  },
  {
   "cell_type": "code",
   "execution_count": 17,
   "id": "e6c708fb",
   "metadata": {},
   "outputs": [
    {
     "name": "stdout",
     "output_type": "stream",
     "text": [
      "Les vecteurs de bases (a,b,c) du réseau direct sont : \n",
      "0.000000 3.902076 3.902076\n",
      "3.902076 0.000000 3.902076\n",
      "3.902076 3.902076 0.000000\n"
     ]
    }
   ],
   "source": [
    "print(\"Les vecteurs de bases (a,b,c) du réseau direct sont : \")\n",
    "print(structure.lattice)"
   ]
  },
  {
   "cell_type": "code",
   "execution_count": 18,
   "id": "ea6aa85b",
   "metadata": {},
   "outputs": [
    {
     "name": "stdout",
     "output_type": "stream",
     "text": [
      "Les vecteurs de bases (a*,b*,c*) du réseau réciproque sont : \n",
      "-0.805108 0.805108 0.805108\n",
      "0.805108 -0.805108 0.805108\n",
      "0.805108 0.805108 -0.805108\n"
     ]
    }
   ],
   "source": [
    "print(\"Les vecteurs de bases (a*,b*,c*) du réseau réciproque sont : \")\n",
    "print(structure.lattice.reciprocal_lattice)"
   ]
  },
  {
   "cell_type": "code",
   "execution_count": 19,
   "id": "f7751b64",
   "metadata": {},
   "outputs": [
    {
     "name": "stdout",
     "output_type": "stream",
     "text": [
      "Son type de maille est :\n",
      "cubic\n"
     ]
    }
   ],
   "source": [
    "print(\"Son type de maille est :\")\n",
    "print(SpacegroupAnalyzer(structure).get_lattice_type())"
   ]
  },
  {
   "cell_type": "code",
   "execution_count": 20,
   "id": "32c20ca4",
   "metadata": {},
   "outputs": [
    {
     "name": "stdout",
     "output_type": "stream",
     "text": [
      "Son système cristallin est : \n",
      "cubic\n"
     ]
    }
   ],
   "source": [
    "print(\"Son système cristallin est : \")\n",
    "print(SpacegroupAnalyzer(structure).get_crystal_system())"
   ]
  },
  {
   "cell_type": "code",
   "execution_count": 21,
   "id": "2363ad2b",
   "metadata": {},
   "outputs": [
    {
     "name": "stdout",
     "output_type": "stream",
     "text": [
      "Son groupe ponctuel est :\n",
      "m-3m\n"
     ]
    }
   ],
   "source": [
    "print(\"Son groupe ponctuel est :\")\n",
    "print(SpacegroupAnalyzer(structure).get_point_group_symbol())"
   ]
  },
  {
   "cell_type": "code",
   "execution_count": null,
   "id": "77591064",
   "metadata": {},
   "outputs": [],
   "source": []
  }
 ],
 "metadata": {
  "kernelspec": {
   "display_name": "Python 3",
   "language": "python",
   "name": "python3"
  },
  "language_info": {
   "codemirror_mode": {
    "name": "ipython",
    "version": 3
   },
   "file_extension": ".py",
   "mimetype": "text/x-python",
   "name": "python",
   "nbconvert_exporter": "python",
   "pygments_lexer": "ipython3",
   "version": "3.6.8"
  }
 },
 "nbformat": 4,
 "nbformat_minor": 5
}
